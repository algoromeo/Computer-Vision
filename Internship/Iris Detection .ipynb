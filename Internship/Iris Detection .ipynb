{
 "cells": [
  {
   "cell_type": "code",
   "execution_count": null,
   "metadata": {},
   "outputs": [],
   "source": [
    "import pip\n",
    "!pip install --upgrade pip\n",
    "!pip install numpy opencv-python requests progressbar\n",
    "!pip install imutils"
   ]
  },
  {
   "cell_type": "code",
   "execution_count": null,
   "metadata": {},
   "outputs": [],
   "source": [
    "import numpy as np\n",
    "import cv2"
   ]
  },
  {
   "cell_type": "code",
   "execution_count": null,
   "metadata": {},
   "outputs": [],
   "source": [
    "image = cv2.imread('target.jpg')\n",
    "eye_cascade = cv2.CascadeClassifier('/Users/bhargavdesai/Desktop/Projects/Computer Vision/Internship/haarcascade_eye.xml')"
   ]
  },
  {
   "cell_type": "code",
   "execution_count": null,
   "metadata": {},
   "outputs": [],
   "source": [
    "eyes = eye_cascade.detectMultiScale(image[:,:,0])\n",
    "ex1,ey1,ew1,eh1 = eyes[0]\n",
    "ex2,ey2,ew2,eh2 = eyes[-1]\n",
    "print(eyes[0])\n",
    "print(eyes[-1])"
   ]
  },
  {
   "cell_type": "code",
   "execution_count": null,
   "metadata": {},
   "outputs": [],
   "source": [
    "imgray = cv2.cvtColor(image,cv2.COLOR_BGR2GRAY)\n",
    "blur = cv2.medianBlur(imgray,3)\n",
    "_,thresh = cv2.threshold(blur,127,255,cv2.THRESH_BINARY_INV)\n",
    "img, contours, hierarchy = cv2.findContours(thresh,cv2.RETR_TREE,cv2.CHAIN_APPROX_NONE)\n",
    "hierarchy = list(hierarchy)\n",
    "print(len(contours))"
   ]
  },
  {
   "cell_type": "code",
   "execution_count": null,
   "metadata": {},
   "outputs": [],
   "source": [
    "eye1points = []\n",
    "eye2points = []\n",
    "bbox_eye1 = np.array([(ex1,ey1+eh1),(ex1+ew1,ey1+eh1),(ex1+ew1,ey1),(ex1,ey1)])\n",
    "bbox_eye2 = np.array([(ex2,ey2+eh2),(ex2+ew2,ey2+eh2),(ex2+ew2,ey2),(ex2,ey2)])\n",
    "print(bbox_eye1)\n",
    "for contour in contours:\n",
    "    for point in contour:\n",
    "        point = tuple(point[0])\n",
    "        if cv2.pointPolygonTest(bbox_eye1, point, True)  >= 11:\n",
    "            eye1points.append(point)\n",
    "        elif cv2.pointPolygonTest(bbox_eye2, point, True) >= 11:\n",
    "            eye2points.append(point) \n",
    "        else:\n",
    "            continue\n",
    "eye1points = np.array(eye1points)\n",
    "eye2points = np.array(eye2points)"
   ]
  },
  {
   "cell_type": "code",
   "execution_count": null,
   "metadata": {},
   "outputs": [],
   "source": [
    "area1 = cv2.contourArea(eye1points)\n",
    "area2 = cv2.contourArea(eye2points)\n",
    "print(area1)\n",
    "print(area2)"
   ]
  },
  {
   "cell_type": "code",
   "execution_count": null,
   "metadata": {},
   "outputs": [],
   "source": [
    "cv2.drawContours(image, [eye1points], -1, (0,0,255), -1)\n",
    "cv2.drawContours(image, [eye2points], -1, (0,0,255), -1)\n",
    "cv2.imshow(\"test\",image)\n",
    "cv2.waitKey(0)\n",
    "cv2.imwrite(\"colour_change.jpg\",image)\n",
    "cv2.destroyAllWindows()"
   ]
  },
  {
   "cell_type": "code",
   "execution_count": null,
   "metadata": {},
   "outputs": [],
   "source": []
  }
 ],
 "metadata": {
  "kernelspec": {
   "display_name": "Python 3",
   "language": "python",
   "name": "python3"
  },
  "language_info": {
   "codemirror_mode": {
    "name": "ipython",
    "version": 3
   },
   "file_extension": ".py",
   "mimetype": "text/x-python",
   "name": "python",
   "nbconvert_exporter": "python",
   "pygments_lexer": "ipython3",
   "version": "3.6.5"
  }
 },
 "nbformat": 4,
 "nbformat_minor": 2
}
